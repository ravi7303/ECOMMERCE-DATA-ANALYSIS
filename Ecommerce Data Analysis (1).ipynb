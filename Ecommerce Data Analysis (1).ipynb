{
 "cells": [
  {
   "cell_type": "markdown",
   "id": "73e40e18-5686-41b2-8cad-a281f9182611",
   "metadata": {},
   "source": [
    "# Analysis Of Ecommerce Data"
   ]
  },
  {
   "cell_type": "markdown",
   "id": "ffd8ab17-4286-4ff1-a4c6-34dcef373c6a",
   "metadata": {},
   "source": [
    "## The primary goal of this project is to perform an advanced data-driven analysis of e-commerce transaction data to uncover meaningful business insights, customer behaviors, and purchasing patterns. By leveraging key metrics such as Recency, Frequency, and Monetary value (RFM), purchase categories, and customer demographics, this analysis aims to:\n",
    "\n",
    "\n",
    "### Segment customers based on their shopping behavior and spending patterns.\n",
    "\n",
    "### Identify high-value, mid-value, and low-value customer groups using RFM scoring.\n",
    "\n",
    "### Evaluate category-wise performance in terms of purchase frequency, revenue, and demographic preferences.\n",
    "\n",
    "### Estimate customer lifetime value (CLV) to identify long-term valuable customers.\n",
    "\n",
    "### Detect inactive customers and measure the average purchase intervals to understand retention challenges.\n",
    "\n",
    "### Track sales trends over time to assess revenue growth patterns.\n",
    "\n",
    "### Identify key purchasing behaviors based on gender, age, and product categories.\n",
    "\n",
    "### Why This Matters: This insight will help e-commerce businesses:\n",
    "\n",
    "### Optimize marketing strategies for different customer segments.\n",
    "\n",
    "### Tailor promotional campaigns based on customer loyalty and value.\n",
    "\n",
    "### Improve inventory and category management based on purchasing trends.\n",
    "\n",
    "### Focus on customer retention by identifying inactivity early.\n",
    "\n",
    "### Boost profitability by targeting the highest-value customers.\n",
    "\n",
    "\n",
    "\n"
   ]
  },
  {
   "cell_type": "markdown",
   "id": "248282b1-6612-499f-abf8-5f6b3aedc1cb",
   "metadata": {},
   "source": []
  },
  {
   "cell_type": "code",
   "execution_count": 1,
   "id": "a3b24ca6-2db1-48cf-ab18-2327c641ca67",
   "metadata": {},
   "outputs": [],
   "source": [
    "import numpy as np\n",
    "import pandas as pd \n",
    "import matplotlib.pyplot as plt\n",
    "import seaborn as sns\n",
    "import warnings\n",
    "warnings.filterwarnings('ignore')"
   ]
  },
  {
   "cell_type": "code",
   "execution_count": 2,
   "id": "24be96a7-90aa-48c0-b85d-a9ab225f57e9",
   "metadata": {},
   "outputs": [
    {
     "data": {
      "text/html": [
       "<div>\n",
       "<style scoped>\n",
       "    .dataframe tbody tr th:only-of-type {\n",
       "        vertical-align: middle;\n",
       "    }\n",
       "\n",
       "    .dataframe tbody tr th {\n",
       "        vertical-align: top;\n",
       "    }\n",
       "\n",
       "    .dataframe thead th {\n",
       "        text-align: right;\n",
       "    }\n",
       "</style>\n",
       "<table border=\"1\" class=\"dataframe\">\n",
       "  <thead>\n",
       "    <tr style=\"text-align: right;\">\n",
       "      <th></th>\n",
       "      <th>Customer_ID</th>\n",
       "      <th>Age</th>\n",
       "      <th>Gender</th>\n",
       "      <th>Income_Level</th>\n",
       "      <th>Marital_Status</th>\n",
       "      <th>Education_Level</th>\n",
       "      <th>Occupation</th>\n",
       "      <th>Location</th>\n",
       "      <th>Purchase_Category</th>\n",
       "      <th>Purchase_Amount</th>\n",
       "      <th>...</th>\n",
       "      <th>Customer_Satisfaction</th>\n",
       "      <th>Engagement_with_Ads</th>\n",
       "      <th>Device_Used_for_Shopping</th>\n",
       "      <th>Payment_Method</th>\n",
       "      <th>Time_of_Purchase</th>\n",
       "      <th>Discount_Used</th>\n",
       "      <th>Customer_Loyalty_Program_Member</th>\n",
       "      <th>Purchase_Intent</th>\n",
       "      <th>Shipping_Preference</th>\n",
       "      <th>Time_to_Decision</th>\n",
       "    </tr>\n",
       "  </thead>\n",
       "  <tbody>\n",
       "    <tr>\n",
       "      <th>0</th>\n",
       "      <td>37-611-6911</td>\n",
       "      <td>22</td>\n",
       "      <td>Female</td>\n",
       "      <td>Middle</td>\n",
       "      <td>Married</td>\n",
       "      <td>Bachelor's</td>\n",
       "      <td>Middle</td>\n",
       "      <td>Évry</td>\n",
       "      <td>Gardening &amp; Outdoors</td>\n",
       "      <td>$333.80</td>\n",
       "      <td>...</td>\n",
       "      <td>7</td>\n",
       "      <td>NaN</td>\n",
       "      <td>Tablet</td>\n",
       "      <td>Credit Card</td>\n",
       "      <td>3/1/2024</td>\n",
       "      <td>True</td>\n",
       "      <td>False</td>\n",
       "      <td>Need-based</td>\n",
       "      <td>No Preference</td>\n",
       "      <td>2</td>\n",
       "    </tr>\n",
       "    <tr>\n",
       "      <th>1</th>\n",
       "      <td>29-392-9296</td>\n",
       "      <td>49</td>\n",
       "      <td>Male</td>\n",
       "      <td>High</td>\n",
       "      <td>Married</td>\n",
       "      <td>High School</td>\n",
       "      <td>High</td>\n",
       "      <td>Huocheng</td>\n",
       "      <td>Food &amp; Beverages</td>\n",
       "      <td>$222.22</td>\n",
       "      <td>...</td>\n",
       "      <td>5</td>\n",
       "      <td>High</td>\n",
       "      <td>Tablet</td>\n",
       "      <td>PayPal</td>\n",
       "      <td>4/16/2024</td>\n",
       "      <td>True</td>\n",
       "      <td>False</td>\n",
       "      <td>Wants-based</td>\n",
       "      <td>Standard</td>\n",
       "      <td>6</td>\n",
       "    </tr>\n",
       "    <tr>\n",
       "      <th>2</th>\n",
       "      <td>84-649-5117</td>\n",
       "      <td>24</td>\n",
       "      <td>Female</td>\n",
       "      <td>Middle</td>\n",
       "      <td>Single</td>\n",
       "      <td>Master's</td>\n",
       "      <td>High</td>\n",
       "      <td>Huzhen</td>\n",
       "      <td>Office Supplies</td>\n",
       "      <td>$426.22</td>\n",
       "      <td>...</td>\n",
       "      <td>7</td>\n",
       "      <td>Low</td>\n",
       "      <td>Smartphone</td>\n",
       "      <td>Debit Card</td>\n",
       "      <td>3/15/2024</td>\n",
       "      <td>True</td>\n",
       "      <td>True</td>\n",
       "      <td>Impulsive</td>\n",
       "      <td>No Preference</td>\n",
       "      <td>3</td>\n",
       "    </tr>\n",
       "    <tr>\n",
       "      <th>3</th>\n",
       "      <td>48-980-6078</td>\n",
       "      <td>29</td>\n",
       "      <td>Female</td>\n",
       "      <td>Middle</td>\n",
       "      <td>Single</td>\n",
       "      <td>Master's</td>\n",
       "      <td>Middle</td>\n",
       "      <td>Wiwilí</td>\n",
       "      <td>Home Appliances</td>\n",
       "      <td>$101.31</td>\n",
       "      <td>...</td>\n",
       "      <td>1</td>\n",
       "      <td>NaN</td>\n",
       "      <td>Smartphone</td>\n",
       "      <td>Other</td>\n",
       "      <td>10/4/2024</td>\n",
       "      <td>True</td>\n",
       "      <td>True</td>\n",
       "      <td>Need-based</td>\n",
       "      <td>Express</td>\n",
       "      <td>10</td>\n",
       "    </tr>\n",
       "    <tr>\n",
       "      <th>4</th>\n",
       "      <td>91-170-9072</td>\n",
       "      <td>33</td>\n",
       "      <td>Female</td>\n",
       "      <td>Middle</td>\n",
       "      <td>Widowed</td>\n",
       "      <td>High School</td>\n",
       "      <td>Middle</td>\n",
       "      <td>Nara</td>\n",
       "      <td>Furniture</td>\n",
       "      <td>$211.70</td>\n",
       "      <td>...</td>\n",
       "      <td>10</td>\n",
       "      <td>NaN</td>\n",
       "      <td>Smartphone</td>\n",
       "      <td>Debit Card</td>\n",
       "      <td>1/30/2024</td>\n",
       "      <td>False</td>\n",
       "      <td>False</td>\n",
       "      <td>Wants-based</td>\n",
       "      <td>No Preference</td>\n",
       "      <td>4</td>\n",
       "    </tr>\n",
       "    <tr>\n",
       "      <th>...</th>\n",
       "      <td>...</td>\n",
       "      <td>...</td>\n",
       "      <td>...</td>\n",
       "      <td>...</td>\n",
       "      <td>...</td>\n",
       "      <td>...</td>\n",
       "      <td>...</td>\n",
       "      <td>...</td>\n",
       "      <td>...</td>\n",
       "      <td>...</td>\n",
       "      <td>...</td>\n",
       "      <td>...</td>\n",
       "      <td>...</td>\n",
       "      <td>...</td>\n",
       "      <td>...</td>\n",
       "      <td>...</td>\n",
       "      <td>...</td>\n",
       "      <td>...</td>\n",
       "      <td>...</td>\n",
       "      <td>...</td>\n",
       "      <td>...</td>\n",
       "    </tr>\n",
       "    <tr>\n",
       "      <th>995</th>\n",
       "      <td>20-562-2569</td>\n",
       "      <td>44</td>\n",
       "      <td>Female</td>\n",
       "      <td>High</td>\n",
       "      <td>Divorced</td>\n",
       "      <td>Bachelor's</td>\n",
       "      <td>High</td>\n",
       "      <td>Aramayuan</td>\n",
       "      <td>Mobile Accessories</td>\n",
       "      <td>$463.67</td>\n",
       "      <td>...</td>\n",
       "      <td>4</td>\n",
       "      <td>NaN</td>\n",
       "      <td>Tablet</td>\n",
       "      <td>PayPal</td>\n",
       "      <td>7/7/2024</td>\n",
       "      <td>True</td>\n",
       "      <td>False</td>\n",
       "      <td>Need-based</td>\n",
       "      <td>Standard</td>\n",
       "      <td>5</td>\n",
       "    </tr>\n",
       "    <tr>\n",
       "      <th>996</th>\n",
       "      <td>41-366-4205</td>\n",
       "      <td>50</td>\n",
       "      <td>Female</td>\n",
       "      <td>High</td>\n",
       "      <td>Single</td>\n",
       "      <td>High School</td>\n",
       "      <td>Middle</td>\n",
       "      <td>Paquera</td>\n",
       "      <td>Gardening &amp; Outdoors</td>\n",
       "      <td>$69.78</td>\n",
       "      <td>...</td>\n",
       "      <td>6</td>\n",
       "      <td>Low</td>\n",
       "      <td>Tablet</td>\n",
       "      <td>Cash</td>\n",
       "      <td>3/28/2024</td>\n",
       "      <td>True</td>\n",
       "      <td>False</td>\n",
       "      <td>Wants-based</td>\n",
       "      <td>No Preference</td>\n",
       "      <td>9</td>\n",
       "    </tr>\n",
       "    <tr>\n",
       "      <th>997</th>\n",
       "      <td>77-241-7621</td>\n",
       "      <td>26</td>\n",
       "      <td>Male</td>\n",
       "      <td>High</td>\n",
       "      <td>Married</td>\n",
       "      <td>Bachelor's</td>\n",
       "      <td>High</td>\n",
       "      <td>Warudoyong</td>\n",
       "      <td>Food &amp; Beverages</td>\n",
       "      <td>$453.37</td>\n",
       "      <td>...</td>\n",
       "      <td>6</td>\n",
       "      <td>High</td>\n",
       "      <td>Desktop</td>\n",
       "      <td>Credit Card</td>\n",
       "      <td>3/11/2024</td>\n",
       "      <td>True</td>\n",
       "      <td>True</td>\n",
       "      <td>Wants-based</td>\n",
       "      <td>Express</td>\n",
       "      <td>9</td>\n",
       "    </tr>\n",
       "    <tr>\n",
       "      <th>998</th>\n",
       "      <td>53-091-2176</td>\n",
       "      <td>21</td>\n",
       "      <td>Female</td>\n",
       "      <td>High</td>\n",
       "      <td>Widowed</td>\n",
       "      <td>Bachelor's</td>\n",
       "      <td>Middle</td>\n",
       "      <td>Béziers</td>\n",
       "      <td>Baby Products</td>\n",
       "      <td>$106.15</td>\n",
       "      <td>...</td>\n",
       "      <td>5</td>\n",
       "      <td>Medium</td>\n",
       "      <td>Desktop</td>\n",
       "      <td>Cash</td>\n",
       "      <td>3/30/2024</td>\n",
       "      <td>True</td>\n",
       "      <td>True</td>\n",
       "      <td>Impulsive</td>\n",
       "      <td>Standard</td>\n",
       "      <td>8</td>\n",
       "    </tr>\n",
       "    <tr>\n",
       "      <th>999</th>\n",
       "      <td>48-203-9118</td>\n",
       "      <td>21</td>\n",
       "      <td>Female</td>\n",
       "      <td>Middle</td>\n",
       "      <td>Single</td>\n",
       "      <td>High School</td>\n",
       "      <td>High</td>\n",
       "      <td>Dongzhou</td>\n",
       "      <td>Health Care</td>\n",
       "      <td>$378.47</td>\n",
       "      <td>...</td>\n",
       "      <td>10</td>\n",
       "      <td>Low</td>\n",
       "      <td>Tablet</td>\n",
       "      <td>Other</td>\n",
       "      <td>12/8/2024</td>\n",
       "      <td>False</td>\n",
       "      <td>False</td>\n",
       "      <td>Planned</td>\n",
       "      <td>Express</td>\n",
       "      <td>2</td>\n",
       "    </tr>\n",
       "  </tbody>\n",
       "</table>\n",
       "<p>1000 rows × 28 columns</p>\n",
       "</div>"
      ],
      "text/plain": [
       "     Customer_ID  Age  Gender Income_Level Marital_Status Education_Level  \\\n",
       "0    37-611-6911   22  Female       Middle        Married      Bachelor's   \n",
       "1    29-392-9296   49    Male         High        Married     High School   \n",
       "2    84-649-5117   24  Female       Middle         Single        Master's   \n",
       "3    48-980-6078   29  Female       Middle         Single        Master's   \n",
       "4    91-170-9072   33  Female       Middle        Widowed     High School   \n",
       "..           ...  ...     ...          ...            ...             ...   \n",
       "995  20-562-2569   44  Female         High       Divorced      Bachelor's   \n",
       "996  41-366-4205   50  Female         High         Single     High School   \n",
       "997  77-241-7621   26    Male         High        Married      Bachelor's   \n",
       "998  53-091-2176   21  Female         High        Widowed      Bachelor's   \n",
       "999  48-203-9118   21  Female       Middle         Single     High School   \n",
       "\n",
       "    Occupation    Location     Purchase_Category Purchase_Amount  ...  \\\n",
       "0       Middle        Évry  Gardening & Outdoors        $333.80   ...   \n",
       "1         High    Huocheng      Food & Beverages        $222.22   ...   \n",
       "2         High      Huzhen       Office Supplies        $426.22   ...   \n",
       "3       Middle      Wiwilí       Home Appliances        $101.31   ...   \n",
       "4       Middle        Nara             Furniture        $211.70   ...   \n",
       "..         ...         ...                   ...             ...  ...   \n",
       "995       High   Aramayuan    Mobile Accessories        $463.67   ...   \n",
       "996     Middle     Paquera  Gardening & Outdoors         $69.78   ...   \n",
       "997       High  Warudoyong      Food & Beverages        $453.37   ...   \n",
       "998     Middle     Béziers         Baby Products        $106.15   ...   \n",
       "999       High    Dongzhou           Health Care        $378.47   ...   \n",
       "\n",
       "     Customer_Satisfaction Engagement_with_Ads  Device_Used_for_Shopping  \\\n",
       "0                        7                 NaN                    Tablet   \n",
       "1                        5                High                    Tablet   \n",
       "2                        7                 Low                Smartphone   \n",
       "3                        1                 NaN                Smartphone   \n",
       "4                       10                 NaN                Smartphone   \n",
       "..                     ...                 ...                       ...   \n",
       "995                      4                 NaN                    Tablet   \n",
       "996                      6                 Low                    Tablet   \n",
       "997                      6                High                   Desktop   \n",
       "998                      5              Medium                   Desktop   \n",
       "999                     10                 Low                    Tablet   \n",
       "\n",
       "     Payment_Method  Time_of_Purchase Discount_Used  \\\n",
       "0       Credit Card          3/1/2024          True   \n",
       "1            PayPal         4/16/2024          True   \n",
       "2        Debit Card         3/15/2024          True   \n",
       "3             Other         10/4/2024          True   \n",
       "4        Debit Card         1/30/2024         False   \n",
       "..              ...               ...           ...   \n",
       "995          PayPal          7/7/2024          True   \n",
       "996            Cash         3/28/2024          True   \n",
       "997     Credit Card         3/11/2024          True   \n",
       "998            Cash         3/30/2024          True   \n",
       "999           Other         12/8/2024         False   \n",
       "\n",
       "    Customer_Loyalty_Program_Member  Purchase_Intent  Shipping_Preference  \\\n",
       "0                             False       Need-based        No Preference   \n",
       "1                             False      Wants-based             Standard   \n",
       "2                              True        Impulsive        No Preference   \n",
       "3                              True       Need-based              Express   \n",
       "4                             False      Wants-based        No Preference   \n",
       "..                              ...              ...                  ...   \n",
       "995                           False       Need-based             Standard   \n",
       "996                           False      Wants-based        No Preference   \n",
       "997                            True      Wants-based              Express   \n",
       "998                            True        Impulsive             Standard   \n",
       "999                           False          Planned              Express   \n",
       "\n",
       "    Time_to_Decision  \n",
       "0                  2  \n",
       "1                  6  \n",
       "2                  3  \n",
       "3                 10  \n",
       "4                  4  \n",
       "..               ...  \n",
       "995                5  \n",
       "996                9  \n",
       "997                9  \n",
       "998                8  \n",
       "999                2  \n",
       "\n",
       "[1000 rows x 28 columns]"
      ]
     },
     "execution_count": 2,
     "metadata": {},
     "output_type": "execute_result"
    }
   ],
   "source": [
    "data=pd.read_csv('Eccomerce_Data.csv')\n",
    "data"
   ]
  },
  {
   "cell_type": "code",
   "execution_count": 9,
   "id": "d2743f62-af13-40e9-9088-78cad7789c3b",
   "metadata": {},
   "outputs": [
    {
     "name": "stdout",
     "output_type": "stream",
     "text": [
      "<class 'pandas.core.frame.DataFrame'>\n",
      "RangeIndex: 1000 entries, 0 to 999\n",
      "Data columns (total 28 columns):\n",
      " #   Column                                 Non-Null Count  Dtype  \n",
      "---  ------                                 --------------  -----  \n",
      " 0   Customer_ID                            1000 non-null   object \n",
      " 1   Age                                    1000 non-null   int64  \n",
      " 2   Gender                                 1000 non-null   object \n",
      " 3   Income_Level                           1000 non-null   object \n",
      " 4   Marital_Status                         1000 non-null   object \n",
      " 5   Education_Level                        1000 non-null   object \n",
      " 6   Occupation                             1000 non-null   object \n",
      " 7   Location                               1000 non-null   object \n",
      " 8   Purchase_Category                      1000 non-null   object \n",
      " 9   Purchase_Amount                        1000 non-null   object \n",
      " 10  Frequency_of_Purchase                  1000 non-null   int64  \n",
      " 11  Purchase_Channel                       1000 non-null   object \n",
      " 12  Brand_Loyalty                          1000 non-null   int64  \n",
      " 13  Product_Rating                         1000 non-null   int64  \n",
      " 14  Time_Spent_on_Product_Research(hours)  1000 non-null   float64\n",
      " 15  Social_Media_Influence                 753 non-null    object \n",
      " 16  Discount_Sensitivity                   1000 non-null   object \n",
      " 17  Return_Rate                            1000 non-null   int64  \n",
      " 18  Customer_Satisfaction                  1000 non-null   int64  \n",
      " 19  Engagement_with_Ads                    744 non-null    object \n",
      " 20  Device_Used_for_Shopping               1000 non-null   object \n",
      " 21  Payment_Method                         1000 non-null   object \n",
      " 22  Time_of_Purchase                       1000 non-null   object \n",
      " 23  Discount_Used                          1000 non-null   bool   \n",
      " 24  Customer_Loyalty_Program_Member        1000 non-null   bool   \n",
      " 25  Purchase_Intent                        1000 non-null   object \n",
      " 26  Shipping_Preference                    1000 non-null   object \n",
      " 27  Time_to_Decision                       1000 non-null   int64  \n",
      "dtypes: bool(2), float64(1), int64(7), object(18)\n",
      "memory usage: 205.2+ KB\n"
     ]
    }
   ],
   "source": [
    "data.info()"
   ]
  },
  {
   "cell_type": "markdown",
   "id": "bfcdc267-2540-4279-8377-2cb5fb47f284",
   "metadata": {},
   "source": [
    "# Data Cleaning & Preprocessing"
   ]
  },
  {
   "cell_type": "markdown",
   "id": "bd082864-a3e8-437c-a1b1-7d53537883f1",
   "metadata": {},
   "source": [
    "#  Fix data types, handle missing values, clean up columns."
   ]
  },
  {
   "cell_type": "code",
   "execution_count": 10,
   "id": "5a15ee2e-e930-4731-8fe5-67762dcbdaad",
   "metadata": {},
   "outputs": [
    {
     "name": "stdout",
     "output_type": "stream",
     "text": [
      "Customer_ID                                0\n",
      "Age                                        0\n",
      "Gender                                     0\n",
      "Income_Level                               0\n",
      "Marital_Status                             0\n",
      "Education_Level                            0\n",
      "Occupation                                 0\n",
      "Location                                   0\n",
      "Purchase_Category                          0\n",
      "Purchase_Amount                            0\n",
      "Frequency_of_Purchase                      0\n",
      "Purchase_Channel                           0\n",
      "Brand_Loyalty                              0\n",
      "Product_Rating                             0\n",
      "Time_Spent_on_Product_Research(hours)      0\n",
      "Social_Media_Influence                   247\n",
      "Discount_Sensitivity                       0\n",
      "Return_Rate                                0\n",
      "Customer_Satisfaction                      0\n",
      "Engagement_with_Ads                      256\n",
      "Device_Used_for_Shopping                   0\n",
      "Payment_Method                             0\n",
      "Time_of_Purchase                           0\n",
      "Discount_Used                              0\n",
      "Customer_Loyalty_Program_Member            0\n",
      "Purchase_Intent                            0\n",
      "Shipping_Preference                        0\n",
      "Time_to_Decision                           0\n",
      "dtype: int64\n"
     ]
    }
   ],
   "source": [
    "# Remove '$' from 'Purchase_Amount' and convert to float\n",
    "data['Purchase_Amount'] = data['Purchase_Amount'].replace('[\\$,]', '', regex=True).astype(float)\n",
    "\n",
    "# Convert 'Time_of_Purchase' to datetime\n",
    "data['Time_of_Purchase'] = pd.to_datetime(data['Time_of_Purchase'])\n",
    "\n",
    "# Check for missing values\n",
    "print(data.isnull().sum())\n"
   ]
  },
  {
   "cell_type": "markdown",
   "id": "3a9cfa73-2ac5-4371-b6fb-a6fb5506156a",
   "metadata": {},
   "source": [
    "# Check the structure, data types, shape in categorical columns."
   ]
  },
  {
   "cell_type": "code",
   "execution_count": 14,
   "id": "13cb097c-55e0-46ac-9bdd-649d16e21bb4",
   "metadata": {},
   "outputs": [
    {
     "name": "stdout",
     "output_type": "stream",
     "text": [
      "Customer_ID                                      object\n",
      "Age                                               int64\n",
      "Gender                                           object\n",
      "Income_Level                                     object\n",
      "Marital_Status                                   object\n",
      "Education_Level                                  object\n",
      "Occupation                                       object\n",
      "Location                                         object\n",
      "Purchase_Category                                object\n",
      "Purchase_Amount                                 float64\n",
      "Frequency_of_Purchase                             int64\n",
      "Purchase_Channel                                 object\n",
      "Brand_Loyalty                                     int64\n",
      "Product_Rating                                    int64\n",
      "Time_Spent_on_Product_Research(hours)           float64\n",
      "Social_Media_Influence                           object\n",
      "Discount_Sensitivity                             object\n",
      "Return_Rate                                       int64\n",
      "Customer_Satisfaction                             int64\n",
      "Engagement_with_Ads                              object\n",
      "Device_Used_for_Shopping                         object\n",
      "Payment_Method                                   object\n",
      "Time_of_Purchase                         datetime64[ns]\n",
      "Discount_Used                                      bool\n",
      "Customer_Loyalty_Program_Member                    bool\n",
      "Purchase_Intent                                  object\n",
      "Shipping_Preference                              object\n",
      "Time_to_Decision                                  int64\n",
      "Recency                                           int64\n",
      "dtype: object\n",
      "Shape of dataset: (1000, 29)\n"
     ]
    }
   ],
   "source": [
    "# Check data types and shape\n",
    "print(data.dtypes)\n",
    "print(\"Shape of dataset:\", data.shape)\n",
    "\n",
    "\n"
   ]
  },
  {
   "cell_type": "markdown",
   "id": "8d0222b0-d128-4532-bb03-d38d7c67946d",
   "metadata": {},
   "source": [
    "# Segment customers by:\n",
    "\n",
    "Recency: Days since their last purchase\n",
    "\n",
    "Frequency: Number of purchases\n",
    "\n",
    "Monetary: Total spend"
   ]
  },
  {
   "cell_type": "code",
   "execution_count": 12,
   "id": "070dadfa-6175-4c8e-be52-3b1f94284062",
   "metadata": {},
   "outputs": [
    {
     "name": "stdout",
     "output_type": "stream",
     "text": [
      "   Customer_ID  Recency  Frequency  Monetary\n",
      "0  37-611-6911      305          1    333.80\n",
      "1  29-392-9296      259          1    222.22\n",
      "2  84-649-5117      291          1    426.22\n",
      "3  48-980-6078       88          1    101.31\n",
      "4  91-170-9072      336          1    211.70\n"
     ]
    }
   ],
   "source": [
    "# Calculate Recency\n",
    "current_date = data['Time_of_Purchase'].max() + pd.Timedelta(days=1)\n",
    "data['Recency'] = (current_date - data['Time_of_Purchase']).dt.days\n",
    "\n",
    "# Calculate Frequency per Customer\n",
    "frequency = data.groupby('Customer_ID').size().reset_index(name='Frequency')\n",
    "\n",
    "# Calculate Monetary value per Customer\n",
    "monetary = data.groupby('Customer_ID')['Purchase_Amount'].sum().reset_index(name='Monetary')\n",
    "\n",
    "# Merge RFM values\n",
    "rfm = data[['Customer_ID', 'Recency']].drop_duplicates().merge(frequency, on='Customer_ID').merge(monetary, on='Customer_ID')\n",
    "\n",
    "# View RFM table\n",
    "print(rfm.head())\n"
   ]
  },
  {
   "cell_type": "markdown",
   "id": "0c081e96-6b3e-464a-89a1-b4e4e0db41bb",
   "metadata": {},
   "source": [
    "# Aggregate total purchase amounts over time (monthly) to observe overall sales trends."
   ]
  },
  {
   "cell_type": "code",
   "execution_count": 13,
   "id": "663a0f46-e81c-4e33-82eb-9f8572cc2f07",
   "metadata": {},
   "outputs": [
    {
     "name": "stdout",
     "output_type": "stream",
     "text": [
      "Time_of_Purchase\n",
      "2024-01    19089.22\n",
      "2024-02    20294.28\n",
      "2024-03    27409.79\n",
      "2024-04    28617.22\n",
      "2024-05    18658.99\n",
      "2024-06    25253.23\n",
      "2024-07    25260.62\n",
      "2024-08    27473.39\n",
      "2024-09    24054.76\n",
      "2024-10    19492.38\n",
      "2024-11    21602.54\n",
      "2024-12    17857.46\n",
      "Freq: M, Name: Purchase_Amount, dtype: float64\n"
     ]
    }
   ],
   "source": [
    "# Calculate total sales per month\n",
    "sales_over_time = data.groupby(data['Time_of_Purchase'].dt.to_period('M'))['Purchase_Amount'].sum()\n",
    "\n",
    "# View sales over time\n",
    "print(sales_over_time)\n"
   ]
  },
  {
   "cell_type": "markdown",
   "id": "91c762ba-0004-4f87-b41e-33e1c044039d",
   "metadata": {},
   "source": [
    "# Extract important business insights such as total customers, average purchase, popular category, and top customer."
   ]
  },
  {
   "cell_type": "code",
   "execution_count": 15,
   "id": "9ca807ba-6cf3-4774-a4fc-970337e0959d",
   "metadata": {},
   "outputs": [
    {
     "name": "stdout",
     "output_type": "stream",
     "text": [
      "Total unique customers: 1000\n",
      "Average purchase amount: $ 275.06\n",
      "Most popular purchase category: Electronics\n",
      "Highest spending customer: 60-470-3563\n"
     ]
    }
   ],
   "source": [
    "# Number of unique customers\n",
    "print(\"Total unique customers:\", data['Customer_ID'].nunique())\n",
    "\n",
    "# Average purchase amount\n",
    "print(\"Average purchase amount: $\", round(data['Purchase_Amount'].mean(), 2))\n",
    "\n",
    "# Most popular purchase category\n",
    "print(\"Most popular purchase category:\", data['Purchase_Category'].mode()[0])\n",
    "\n",
    "# Highest spending customer\n",
    "highest_customer = monetary.loc[monetary['Monetary'].idxmax()]['Customer_ID']\n",
    "print(\"Highest spending customer:\", highest_customer)\n"
   ]
  },
  {
   "cell_type": "markdown",
   "id": "246f594a-3ada-4f88-9135-64cf66c0483f",
   "metadata": {},
   "source": [
    "# Identify which product categories are the most popular for each gender."
   ]
  },
  {
   "cell_type": "code",
   "execution_count": 16,
   "id": "462536e4-e92a-4ba6-ab82-41edc9059448",
   "metadata": {},
   "outputs": [
    {
     "name": "stdout",
     "output_type": "stream",
     "text": [
      "         Gender  Purchase_Category  Total_Purchases\n",
      "6       Agender    Home Appliances                5\n",
      "8       Agender          Packages)                4\n",
      "4       Agender          Groceries                2\n",
      "0       Agender        Animal Feed                1\n",
      "1       Agender      Arts & Crafts                1\n",
      "..          ...                ...              ...\n",
      "116  Polygender    Office Supplies                1\n",
      "117  Polygender          Packages)                1\n",
      "118  Polygender    Software & Apps                1\n",
      "119  Polygender  Sports & Outdoors                1\n",
      "120  Polygender       Toys & Games                1\n",
      "\n",
      "[122 rows x 3 columns]\n"
     ]
    }
   ],
   "source": [
    "# Group by Gender and Purchase_Category and count purchases\n",
    "category_by_gender = data.groupby(['Gender', 'Purchase_Category']).size().reset_index(name='Total_Purchases')\n",
    "\n",
    "# Sort by number of purchases\n",
    "category_by_gender_sorted = category_by_gender.sort_values(['Gender', 'Total_Purchases'], ascending=[True, False])\n",
    "\n",
    "# View result\n",
    "print(category_by_gender_sorted)\n"
   ]
  },
  {
   "cell_type": "markdown",
   "id": "f175c4e4-bb17-4e90-a0a8-1f4a492d4575",
   "metadata": {},
   "source": [
    "# Find the average amount spent per purchase category."
   ]
  },
  {
   "cell_type": "code",
   "execution_count": 17,
   "id": "cb78024c-5644-4ad0-8be0-90606da73168",
   "metadata": {},
   "outputs": [
    {
     "name": "stdout",
     "output_type": "stream",
     "text": [
      "            Purchase_Category  Average_Spend\n",
      "0                 Animal Feed     260.615909\n",
      "1               Arts & Crafts     221.468235\n",
      "2               Baby Products     272.500488\n",
      "3      Beauty & Personal Care     233.676765\n",
      "4                       Books     300.613243\n",
      "5                    Clothing     280.034667\n",
      "6                 Electronics     256.340926\n",
      "7            Food & Beverages     294.703636\n",
      "8                   Furniture     250.787561\n",
      "9        Gardening & Outdoors     267.779091\n",
      "10                  Groceries     279.698780\n",
      "11                Health Care     296.317805\n",
      "12         Health Supplements     266.056341\n",
      "13            Home Appliances     263.836400\n",
      "14                     Hotels     245.971667\n",
      "15      Jewelry & Accessories     302.787200\n",
      "16               Luxury Goods     276.945946\n",
      "17         Mobile Accessories     285.101951\n",
      "18            Office Supplies     285.131842\n",
      "19                  Packages)     296.073488\n",
      "20            Software & Apps     316.311860\n",
      "21          Sports & Outdoors     286.480588\n",
      "22               Toys & Games     288.009787\n",
      "23  Travel & Leisure (Flights     252.362632\n"
     ]
    }
   ],
   "source": [
    "# Group by category and calculate average purchase amount\n",
    "avg_spend_category = data.groupby('Purchase_Category')['Purchase_Amount'].mean().reset_index(name='Average_Spend')\n",
    "\n",
    "# View average spend per category\n",
    "print(avg_spend_category)\n"
   ]
  },
  {
   "cell_type": "markdown",
   "id": "08938539-a105-4415-ba79-ab2af7aa7519",
   "metadata": {},
   "source": [
    "# List the top 10 customers based on total spending."
   ]
  },
  {
   "cell_type": "code",
   "execution_count": 18,
   "id": "3f7f9db8-2cc1-4e24-949f-e7715d083bdc",
   "metadata": {},
   "outputs": [
    {
     "name": "stdout",
     "output_type": "stream",
     "text": [
      "     Customer_ID  Monetary\n",
      "593  60-470-3563    498.33\n",
      "132  13-848-5757    498.23\n",
      "150  15-663-7994    497.80\n",
      "869  86-257-9581    497.76\n",
      "146  15-421-1255    497.75\n",
      "716  72-830-1211    496.11\n",
      "858  85-467-6564    495.95\n",
      "713  72-590-6161    495.80\n",
      "684  69-394-1424    494.97\n",
      "585  59-261-4453    494.81\n"
     ]
    }
   ],
   "source": [
    "# Sort monetary values in descending order\n",
    "top_customers = monetary.sort_values('Monetary', ascending=False).head(10)\n",
    "\n",
    "# View top 10 highest spending customers\n",
    "print(top_customers)\n"
   ]
  },
  {
   "cell_type": "markdown",
   "id": "21972989-ead2-45f1-b95b-0779fb8f9279",
   "metadata": {},
   "source": [
    "# Retrieve the latest 10 purchases to check recent activity."
   ]
  },
  {
   "cell_type": "code",
   "execution_count": 19,
   "id": "f0c88617-bfda-42bc-96df-d6bf72095be6",
   "metadata": {},
   "outputs": [
    {
     "name": "stdout",
     "output_type": "stream",
     "text": [
      "     Customer_ID  Age   Gender Income_Level Marital_Status Education_Level  \\\n",
      "294  10-328-5732   44   Female         High         Single     High School   \n",
      "542  87-056-8987   49  Agender         High        Widowed     High School   \n",
      "877  96-140-1936   30     Male       Middle        Married      Bachelor's   \n",
      "867  51-415-1931   42   Female         High       Divorced     High School   \n",
      "11   78-116-8349   38   Female         High        Widowed      Bachelor's   \n",
      "112  74-431-0242   41   Female       Middle        Widowed      Bachelor's   \n",
      "831  51-546-9992   33     Male         High        Widowed        Master's   \n",
      "960  26-150-0209   28     Male       Middle        Widowed     High School   \n",
      "331  79-973-7862   47   Female       Middle        Married        Master's   \n",
      "956  09-332-0236   47   Female       Middle       Divorced        Master's   \n",
      "\n",
      "    Occupation      Location   Purchase_Category  Purchase_Amount  ...  \\\n",
      "294     Middle        Kliteh  Health Supplements           311.90  ...   \n",
      "542     Middle   Negeriagung           Groceries           491.92  ...   \n",
      "877     Middle         Baihe        Luxury Goods           477.35  ...   \n",
      "867       High     Kościelec         Electronics            75.27  ...   \n",
      "11      Middle          Győr   Sports & Outdoors           238.93  ...   \n",
      "112       High   Point Pedro         Health Care           250.54  ...   \n",
      "831     Middle        Cimara              Hotels           181.10  ...   \n",
      "960     Middle     Taiyigong            Clothing            82.37  ...   \n",
      "331     Middle  Mount Ayliff         Animal Feed           105.29  ...   \n",
      "956     Middle    San Marcos       Baby Products            51.86  ...   \n",
      "\n",
      "     Engagement_with_Ads Device_Used_for_Shopping  Payment_Method  \\\n",
      "294                 High               Smartphone     Credit Card   \n",
      "542                  Low                  Desktop     Credit Card   \n",
      "877                  Low                  Desktop          PayPal   \n",
      "867                  NaN                  Desktop          PayPal   \n",
      "11                  High                   Tablet            Cash   \n",
      "112                  NaN                  Desktop     Credit Card   \n",
      "831                  Low                   Tablet     Credit Card   \n",
      "960               Medium               Smartphone     Credit Card   \n",
      "331                 High                  Desktop            Cash   \n",
      "956                 High                   Tablet     Credit Card   \n",
      "\n",
      "     Time_of_Purchase  Discount_Used Customer_Loyalty_Program_Member  \\\n",
      "294        2024-12-30          False                            True   \n",
      "542        2024-12-29          False                           False   \n",
      "877        2024-12-28          False                           False   \n",
      "867        2024-12-27           True                            True   \n",
      "11         2024-12-27           True                           False   \n",
      "112        2024-12-27          False                           False   \n",
      "831        2024-12-26          False                           False   \n",
      "960        2024-12-25          False                           False   \n",
      "331        2024-12-25          False                            True   \n",
      "956        2024-12-25          False                            True   \n",
      "\n",
      "    Purchase_Intent  Shipping_Preference  Time_to_Decision Recency  \n",
      "294         Planned        No Preference                 2       1  \n",
      "542     Wants-based             Standard                 2       2  \n",
      "877      Need-based        No Preference                14       3  \n",
      "867       Impulsive              Express                 1       4  \n",
      "11          Planned        No Preference                 1       4  \n",
      "112     Wants-based        No Preference                 3       4  \n",
      "831       Impulsive        No Preference                 5       5  \n",
      "960       Impulsive             Standard                 2       6  \n",
      "331      Need-based              Express                 4       6  \n",
      "956      Need-based        No Preference                 6       6  \n",
      "\n",
      "[10 rows x 29 columns]\n"
     ]
    }
   ],
   "source": [
    "# Sort data by Time_of_Purchase in descending order\n",
    "recent_purchases = data.sort_values('Time_of_Purchase', ascending=False).head(10)\n",
    "\n",
    "# View recent purchases\n",
    "print(recent_purchases)\n"
   ]
  },
  {
   "cell_type": "markdown",
   "id": "7b9cb8db-36a8-450f-889b-8c5f302a0170",
   "metadata": {},
   "source": [
    "# approximate a simple Customer Lifetime Value using:\n",
    "\n",
    "CLV = Average Purchase × Purchase Frequency"
   ]
  },
  {
   "cell_type": "code",
   "execution_count": 20,
   "id": "45db7e9f-18c9-483d-9535-49a438d3d959",
   "metadata": {},
   "outputs": [
    {
     "name": "stdout",
     "output_type": "stream",
     "text": [
      "     Customer_ID  Avg_Purchase_Value  Frequency  CLV_Estimate\n",
      "593  60-470-3563              498.33          1        498.33\n",
      "132  13-848-5757              498.23          1        498.23\n",
      "150  15-663-7994              497.80          1        497.80\n",
      "869  86-257-9581              497.76          1        497.76\n",
      "146  15-421-1255              497.75          1        497.75\n",
      "716  72-830-1211              496.11          1        496.11\n",
      "858  85-467-6564              495.95          1        495.95\n",
      "713  72-590-6161              495.80          1        495.80\n",
      "684  69-394-1424              494.97          1        494.97\n",
      "585  59-261-4453              494.81          1        494.81\n"
     ]
    }
   ],
   "source": [
    "# Average purchase value per customer\n",
    "average_purchase = data.groupby('Customer_ID')['Purchase_Amount'].mean().reset_index(name='Avg_Purchase_Value')\n",
    "\n",
    "# Merge with frequency\n",
    "clv = average_purchase.merge(frequency, on='Customer_ID')\n",
    "\n",
    "# Estimate CLV\n",
    "clv['CLV_Estimate'] = clv['Avg_Purchase_Value'] * clv['Frequency']\n",
    "\n",
    "# View CLV estimates\n",
    "print(clv.sort_values('CLV_Estimate', ascending=False).head(10))\n"
   ]
  },
  {
   "cell_type": "markdown",
   "id": "7e09dcd9-7b37-4aea-8bef-479935cebd0d",
   "metadata": {},
   "source": [
    "# Check how frequently each product category is purchased across the entire dataset.\n",
    "\n",
    "\n"
   ]
  },
  {
   "cell_type": "code",
   "execution_count": 21,
   "id": "3be35a92-b241-49bc-865c-ac5ceb2ed8f4",
   "metadata": {},
   "outputs": [
    {
     "name": "stdout",
     "output_type": "stream",
     "text": [
      "            Purchase_Category  Total_Purchases\n",
      "0                 Electronics               54\n",
      "1           Sports & Outdoors               51\n",
      "2       Jewelry & Accessories               50\n",
      "3             Home Appliances               50\n",
      "4                Toys & Games               47\n",
      "5                 Animal Feed               44\n",
      "6            Food & Beverages               44\n",
      "7        Gardening & Outdoors               44\n",
      "8             Software & Apps               43\n",
      "9                   Packages)               43\n",
      "10         Mobile Accessories               41\n",
      "11                Health Care               41\n",
      "12                  Furniture               41\n",
      "13              Baby Products               41\n",
      "14         Health Supplements               41\n",
      "15                  Groceries               41\n",
      "16            Office Supplies               38\n",
      "17  Travel & Leisure (Flights               38\n",
      "18               Luxury Goods               37\n",
      "19                      Books               37\n",
      "20                     Hotels               36\n",
      "21              Arts & Crafts               34\n",
      "22     Beauty & Personal Care               34\n",
      "23                   Clothing               30\n"
     ]
    }
   ],
   "source": [
    "# Count number of purchases for each category\n",
    "category_frequency = data['Purchase_Category'].value_counts().reset_index(name='Total_Purchases')\n",
    "\n",
    "# Rename columns\n",
    "category_frequency.columns = ['Purchase_Category', 'Total_Purchases']\n",
    "\n",
    "# View result\n",
    "print(category_frequency)\n"
   ]
  },
  {
   "cell_type": "markdown",
   "id": "a7fa0320-f437-4e33-92a6-2aba8fe7d4bc",
   "metadata": {},
   "source": [
    "# Find out how much total revenue each gender contributes to the business.\n"
   ]
  },
  {
   "cell_type": "code",
   "execution_count": 22,
   "id": "00191c1d-a9b5-4a08-b9d4-ddc915e2c023",
   "metadata": {},
   "outputs": [
    {
     "name": "stdout",
     "output_type": "stream",
     "text": [
      "        Gender  Total_Revenue\n",
      "0      Agender        4631.77\n",
      "1     Bigender        5169.39\n",
      "2       Female      127503.71\n",
      "3  Genderfluid        5018.80\n",
      "4  Genderqueer        3354.21\n",
      "5         Male      120160.69\n",
      "6   Non-binary        4603.69\n",
      "7   Polygender        4621.62\n"
     ]
    }
   ],
   "source": [
    "# Group by Gender and sum Purchase_Amount\n",
    "revenue_by_gender = data.groupby('Gender')['Purchase_Amount'].sum().reset_index(name='Total_Revenue')\n",
    "\n",
    "# View result\n",
    "print(revenue_by_gender)\n"
   ]
  },
  {
   "cell_type": "markdown",
   "id": "28d2a77c-3d12-4186-a305-ef2b97fb0e9b",
   "metadata": {},
   "source": [
    "# Identify customers who haven't made any purchases in the last 90 days."
   ]
  },
  {
   "cell_type": "code",
   "execution_count": 23,
   "id": "d655e3c7-eaf5-4b52-9a85-537b1980fe94",
   "metadata": {},
   "outputs": [
    {
     "name": "stdout",
     "output_type": "stream",
     "text": [
      "     Customer_ID Last_Purchase_Date  Days_Since_Last_Purchase\n",
      "0    00-107-4749         2024-09-19                       103\n",
      "1    00-149-4481         2024-02-04                       331\n",
      "2    00-264-3797         2024-04-17                       258\n",
      "4    00-275-9990         2024-06-28                       186\n",
      "5    00-285-9607         2024-05-28                       217\n",
      "..           ...                ...                       ...\n",
      "994  99-477-8256         2024-09-18                       104\n",
      "995  99-509-4653         2024-06-17                       197\n",
      "997  99-643-9845         2024-09-09                       113\n",
      "998  99-771-9310         2024-03-07                       299\n",
      "999  99-945-7193         2024-04-30                       245\n",
      "\n",
      "[780 rows x 3 columns]\n"
     ]
    }
   ],
   "source": [
    "# Find last purchase date per customer\n",
    "last_purchase = data.groupby('Customer_ID')['Time_of_Purchase'].max().reset_index(name='Last_Purchase_Date')\n",
    "\n",
    "# Calculate days since last purchase\n",
    "last_purchase['Days_Since_Last_Purchase'] = (current_date - last_purchase['Last_Purchase_Date']).dt.days\n",
    "\n",
    "# Identify inactive customers (no purchase in last 90 days)\n",
    "inactive_customers = last_purchase[last_purchase['Days_Since_Last_Purchase'] > 90]\n",
    "\n",
    "# View inactive customers\n",
    "print(inactive_customers)\n"
   ]
  },
  {
   "cell_type": "markdown",
   "id": "1cf4744a-19e4-4341-848f-d80ba1326f69",
   "metadata": {},
   "source": [
    "# Determine which product categories are most preferred by different age groups.\n"
   ]
  },
  {
   "cell_type": "code",
   "execution_count": 24,
   "id": "0d722bf8-780a-4375-8855-8b2450769fd2",
   "metadata": {},
   "outputs": [
    {
     "name": "stdout",
     "output_type": "stream",
     "text": [
      "     Age          Purchase_Category  Total_Purchases\n",
      "2     18                Electronics                4\n",
      "7     18            Home Appliances                3\n",
      "6     18         Health Supplements                2\n",
      "8     18         Mobile Accessories                2\n",
      "0     18              Arts & Crafts                1\n",
      "..   ...                        ...              ...\n",
      "568   50            Home Appliances                1\n",
      "569   50               Luxury Goods                1\n",
      "570   50         Mobile Accessories                1\n",
      "571   50            Office Supplies                1\n",
      "576   50  Travel & Leisure (Flights                1\n",
      "\n",
      "[577 rows x 3 columns]\n"
     ]
    }
   ],
   "source": [
    "# Group by Age and Purchase_Category and count purchases\n",
    "category_by_age = data.groupby(['Age', 'Purchase_Category']).size().reset_index(name='Total_Purchases')\n",
    "\n",
    "# Sort result by Age and Total_Purchases\n",
    "category_by_age_sorted = category_by_age.sort_values(['Age', 'Total_Purchases'], ascending=[True, False])\n",
    "\n",
    "# View result\n",
    "print(category_by_age_sorted)\n"
   ]
  },
  {
   "cell_type": "markdown",
   "id": "3eecfe47-8129-44bc-8a28-1f428a34af68",
   "metadata": {},
   "source": [
    "# List customers who purchase the most frequently."
   ]
  },
  {
   "cell_type": "code",
   "execution_count": 25,
   "id": "9c72b056-720d-4698-bc0c-561eaab6046c",
   "metadata": {},
   "outputs": [
    {
     "name": "stdout",
     "output_type": "stream",
     "text": [
      "     Customer_ID  Frequency\n",
      "0    00-107-4749          1\n",
      "671  67-937-6624          1\n",
      "658  67-036-4295          1\n",
      "659  67-037-2087          1\n",
      "660  67-073-5578          1\n",
      "661  67-159-7366          1\n",
      "662  67-209-0990          1\n",
      "663  67-323-7406          1\n",
      "664  67-438-2378          1\n",
      "665  67-593-9579          1\n"
     ]
    }
   ],
   "source": [
    "# Sort customers by Frequency\n",
    "top_loyal_customers = frequency.sort_values('Frequency', ascending=False).head(10)\n",
    "\n",
    "# View top loyal customers\n",
    "print(top_loyal_customers)\n"
   ]
  },
  {
   "cell_type": "markdown",
   "id": "084a4612-92f3-4b63-b6a9-66b66cc0ce60",
   "metadata": {},
   "source": [
    "# Calculate how many days on average a customer waits between purchases."
   ]
  },
  {
   "cell_type": "code",
   "execution_count": 26,
   "id": "a78d1656-4ef6-4165-a94d-bce44c306411",
   "metadata": {},
   "outputs": [
    {
     "name": "stdout",
     "output_type": "stream",
     "text": [
      "     Customer_ID  Average_Interval_Days\n",
      "0    00-107-4749                    NaN\n",
      "1    00-149-4481                    NaN\n",
      "2    00-264-3797                    NaN\n",
      "3    00-265-0556                    NaN\n",
      "4    00-275-9990                    NaN\n",
      "..           ...                    ...\n",
      "995  99-509-4653                    NaN\n",
      "996  99-581-5577                    NaN\n",
      "997  99-643-9845                    NaN\n",
      "998  99-771-9310                    NaN\n",
      "999  99-945-7193                    NaN\n",
      "\n",
      "[1000 rows x 2 columns]\n"
     ]
    }
   ],
   "source": [
    "# Sort by Customer_ID and Time_of_Purchase\n",
    "data_sorted = data.sort_values(['Customer_ID', 'Time_of_Purchase'])\n",
    "\n",
    "# Calculate difference in days between purchases per customer\n",
    "data_sorted['Purchase_Interval'] = data_sorted.groupby('Customer_ID')['Time_of_Purchase'].diff().dt.days\n",
    "\n",
    "# Calculate average interval per customer\n",
    "average_interval = data_sorted.groupby('Customer_ID')['Purchase_Interval'].mean().reset_index(name='Average_Interval_Days')\n",
    "\n",
    "# View result\n",
    "print(average_interval)\n"
   ]
  },
  {
   "cell_type": "markdown",
   "id": "3486cd12-435b-4695-9b81-d990bab40d6c",
   "metadata": {},
   "source": [
    "# Find what percentage of total revenue comes from each product category."
   ]
  },
  {
   "cell_type": "code",
   "execution_count": 28,
   "id": "d9e9f8f7-2379-4aa6-a9cd-21818264f991",
   "metadata": {},
   "outputs": [
    {
     "name": "stdout",
     "output_type": "stream",
     "text": [
      "            Purchase_Category  Total_Revenue  Revenue_Share_%\n",
      "0                 Animal Feed       11467.10         4.168886\n",
      "1               Arts & Crafts        7529.92         2.737517\n",
      "2               Baby Products       11172.52         4.061791\n",
      "3      Beauty & Personal Care        7945.01         2.888424\n",
      "4                       Books       11122.69         4.043675\n",
      "5                    Clothing        8401.04         3.054214\n",
      "6                 Electronics       13842.41         5.032435\n",
      "7            Food & Beverages       12966.96         4.714163\n",
      "8                   Furniture       10282.29         3.738146\n",
      "9        Gardening & Outdoors       11782.28         4.283470\n",
      "10                  Groceries       11467.65         4.169086\n",
      "11                Health Care       12149.03         4.416803\n",
      "12         Health Supplements       10908.31         3.965737\n",
      "13            Home Appliances       13191.82         4.795911\n",
      "14                     Hotels        8854.98         3.219245\n",
      "15      Jewelry & Accessories       15139.36         5.503943\n",
      "16               Luxury Goods       10247.00         3.725316\n",
      "17         Mobile Accessories       11689.18         4.249624\n",
      "18            Office Supplies       10835.01         3.939089\n",
      "19                  Packages)       12731.16         4.628438\n",
      "20            Software & Apps       13601.41         4.944819\n",
      "21          Sports & Outdoors       14610.51         5.311679\n",
      "22               Toys & Games       13536.46         4.921206\n",
      "23  Travel & Leisure (Flights        9589.78         3.486383\n"
     ]
    }
   ],
   "source": [
    "# Total revenue by category\n",
    "revenue_by_category = data.groupby('Purchase_Category')['Purchase_Amount'].sum().reset_index(name='Total_Revenue')\n",
    "\n",
    "# Calculate revenue share\n",
    "total_revenue = revenue_by_category['Total_Revenue'].sum()\n",
    "revenue_by_category['Revenue_Share_%'] = (revenue_by_category['Total_Revenue'] / total_revenue) * 100\n",
    "\n",
    "# View result\n",
    "print(revenue_by_category)\n"
   ]
  },
  {
   "cell_type": "markdown",
   "id": "5bfd3339-acd0-4b62-89bb-6690085273a3",
   "metadata": {},
   "source": [
    "# Customer Purchase Behavior Summary\n",
    "#### Let’s get some useful business insights like:\n",
    "\n",
    "#### Total purchases per customer\n",
    "\n",
    "#### Average spending per purchase\n",
    "\n",
    "#### Loyalty program behavior\n",
    "\n",
    "#### How often customers buy\n"
   ]
  },
  {
   "cell_type": "code",
   "execution_count": 4,
   "id": "06f989ce-dc66-4ea0-ace0-d18d9988ee76",
   "metadata": {},
   "outputs": [
    {
     "name": "stdout",
     "output_type": "stream",
     "text": [
      "             Total_Purchases  Average_Purchase_Value  Total_Spent  \\\n",
      "Customer_ID                                                         \n",
      "00-107-4749                1                  178.04       178.04   \n",
      "00-149-4481                1                  464.76       464.76   \n",
      "00-264-3797                1                  128.01       128.01   \n",
      "00-265-0556                1                   68.02        68.02   \n",
      "00-275-9990                1                  302.74       302.74   \n",
      "\n",
      "             Avg_Purchase_Frequency  Avg_Return_Rate  Loyalty_Member_Rate  \n",
      "Customer_ID                                                                \n",
      "00-107-4749                     5.0              2.0                  1.0  \n",
      "00-149-4481                     2.0              0.0                  1.0  \n",
      "00-264-3797                     2.0              0.0                  0.0  \n",
      "00-265-0556                    10.0              1.0                  1.0  \n",
      "00-275-9990                    11.0              0.0                  1.0  \n"
     ]
    }
   ],
   "source": [
    "# Group by each customer and summarize their behavior\n",
    "customer_behavior = data.groupby('Customer_ID').agg({\n",
    "    'Purchase_Amount': ['count', 'mean', 'sum'],\n",
    "    'Frequency_of_Purchase': 'mean',\n",
    "    'Return_Rate': 'mean',\n",
    "    'Customer_Loyalty_Program_Member': 'mean'\n",
    "})\n",
    "\n",
    "# Rename columns for easier reading\n",
    "customer_behavior.columns = [\n",
    "    'Total_Purchases', \n",
    "    'Average_Purchase_Value', \n",
    "    'Total_Spent',\n",
    "    'Avg_Purchase_Frequency',\n",
    "    'Avg_Return_Rate',\n",
    "    'Loyalty_Member_Rate'\n",
    "]\n",
    "\n",
    "# View the first few rows\n",
    "print(customer_behavior.head())\n"
   ]
  },
  {
   "cell_type": "markdown",
   "id": "18703c85-8d86-4707-a04e-26cf2b90f079",
   "metadata": {},
   "source": [
    "# Top Spending Customers"
   ]
  },
  {
   "cell_type": "code",
   "execution_count": 5,
   "id": "a1dcfd2b-afed-4abe-96df-f9b00ded73b6",
   "metadata": {},
   "outputs": [
    {
     "name": "stdout",
     "output_type": "stream",
     "text": [
      "             Total_Purchases  Average_Purchase_Value  Total_Spent  \\\n",
      "Customer_ID                                                         \n",
      "60-470-3563                1                  498.33       498.33   \n",
      "13-848-5757                1                  498.23       498.23   \n",
      "15-663-7994                1                  497.80       497.80   \n",
      "86-257-9581                1                  497.76       497.76   \n",
      "15-421-1255                1                  497.75       497.75   \n",
      "72-830-1211                1                  496.11       496.11   \n",
      "85-467-6564                1                  495.95       495.95   \n",
      "72-590-6161                1                  495.80       495.80   \n",
      "69-394-1424                1                  494.97       494.97   \n",
      "59-261-4453                1                  494.81       494.81   \n",
      "\n",
      "             Avg_Purchase_Frequency  Avg_Return_Rate  Loyalty_Member_Rate  \n",
      "Customer_ID                                                                \n",
      "60-470-3563                     2.0              1.0                  1.0  \n",
      "13-848-5757                    10.0              0.0                  0.0  \n",
      "15-663-7994                     2.0              1.0                  0.0  \n",
      "86-257-9581                     2.0              2.0                  1.0  \n",
      "15-421-1255                    11.0              2.0                  0.0  \n",
      "72-830-1211                     2.0              2.0                  0.0  \n",
      "85-467-6564                     5.0              1.0                  0.0  \n",
      "72-590-6161                     4.0              0.0                  1.0  \n",
      "69-394-1424                    12.0              1.0                  0.0  \n",
      "59-261-4453                     9.0              1.0                  1.0  \n"
     ]
    }
   ],
   "source": [
    "# Top 10 customers by total spending\n",
    "top_spenders = customer_behavior.sort_values(by='Total_Spent', ascending=False).head(10)\n",
    "print(top_spenders)\n"
   ]
  },
  {
   "cell_type": "markdown",
   "id": "dd9ed14f-9ec9-4125-b83b-c5e922eebc77",
   "metadata": {},
   "source": [
    "#  Customers with High Return Rates\n",
    "\n"
   ]
  },
  {
   "cell_type": "code",
   "execution_count": 6,
   "id": "157dfbe9-5d46-4fb8-bc7f-2a2a4b91ce74",
   "metadata": {},
   "outputs": [
    {
     "name": "stdout",
     "output_type": "stream",
     "text": [
      "             Total_Purchases  Average_Purchase_Value  Total_Spent  \\\n",
      "Customer_ID                                                         \n",
      "00-107-4749                1                  178.04       178.04   \n",
      "39-952-4459                1                  257.37       257.37   \n",
      "81-014-4502                1                  424.18       424.18   \n",
      "42-518-2602                1                  473.96       473.96   \n",
      "42-101-8525                1                  301.01       301.01   \n",
      "41-934-7739                1                  457.18       457.18   \n",
      "81-111-7832                1                  378.87       378.87   \n",
      "81-225-6647                1                  120.56       120.56   \n",
      "41-130-2570                1                  332.79       332.79   \n",
      "81-515-5823                1                  178.29       178.29   \n",
      "\n",
      "             Avg_Purchase_Frequency  Avg_Return_Rate  Loyalty_Member_Rate  \n",
      "Customer_ID                                                                \n",
      "00-107-4749                     5.0              2.0                  1.0  \n",
      "39-952-4459                     7.0              2.0                  0.0  \n",
      "81-014-4502                     5.0              2.0                  1.0  \n",
      "42-518-2602                    12.0              2.0                  0.0  \n",
      "42-101-8525                     9.0              2.0                  1.0  \n",
      "41-934-7739                     7.0              2.0                  1.0  \n",
      "81-111-7832                     2.0              2.0                  0.0  \n",
      "81-225-6647                     5.0              2.0                  0.0  \n",
      "41-130-2570                    11.0              2.0                  0.0  \n",
      "81-515-5823                     4.0              2.0                  1.0  \n"
     ]
    }
   ],
   "source": [
    "# Customers who return a lot (return rate > 0.5)\n",
    "high_returners = customer_behavior[customer_behavior['Avg_Return_Rate'] > 0.5]\n",
    "print(high_returners.sort_values(by='Avg_Return_Rate', ascending=False).head(10))\n"
   ]
  },
  {
   "cell_type": "markdown",
   "id": "a89a60c5-bad5-457a-8459-815344bd5d83",
   "metadata": {},
   "source": [
    "# Most Loyal Customers (based on Loyalty Program)\n",
    "\n"
   ]
  },
  {
   "cell_type": "code",
   "execution_count": 7,
   "id": "9521567c-6b5a-4441-86a3-2480b8100c1b",
   "metadata": {},
   "outputs": [
    {
     "name": "stdout",
     "output_type": "stream",
     "text": [
      "             Total_Purchases  Average_Purchase_Value  Total_Spent  \\\n",
      "Customer_ID                                                         \n",
      "00-107-4749                1                  178.04       178.04   \n",
      "00-149-4481                1                  464.76       464.76   \n",
      "00-265-0556                1                   68.02        68.02   \n",
      "00-275-9990                1                  302.74       302.74   \n",
      "00-477-9449                1                  454.39       454.39   \n",
      "00-496-3067                1                  249.24       249.24   \n",
      "00-733-8770                1                   57.50        57.50   \n",
      "01-404-3425                1                  370.05       370.05   \n",
      "02-055-8248                1                  159.53       159.53   \n",
      "02-100-4320                1                   71.72        71.72   \n",
      "\n",
      "             Avg_Purchase_Frequency  Avg_Return_Rate  Loyalty_Member_Rate  \n",
      "Customer_ID                                                                \n",
      "00-107-4749                     5.0              2.0                  1.0  \n",
      "00-149-4481                     2.0              0.0                  1.0  \n",
      "00-265-0556                    10.0              1.0                  1.0  \n",
      "00-275-9990                    11.0              0.0                  1.0  \n",
      "00-477-9449                    10.0              0.0                  1.0  \n",
      "00-496-3067                     8.0              2.0                  1.0  \n",
      "00-733-8770                    12.0              0.0                  1.0  \n",
      "01-404-3425                    11.0              1.0                  1.0  \n",
      "02-055-8248                    11.0              0.0                  1.0  \n",
      "02-100-4320                    12.0              2.0                  1.0  \n"
     ]
    }
   ],
   "source": [
    "# Loyalty program members (high average loyalty rate)\n",
    "loyal_customers = customer_behavior[customer_behavior['Loyalty_Member_Rate'] >= 0.8]\n",
    "print(loyal_customers.head(10))\n"
   ]
  },
  {
   "cell_type": "markdown",
   "id": "3c34cd8b-9bba-44ee-a6f8-77bd9f0164e7",
   "metadata": {},
   "source": [
    "#  Customer Lifetime Value (CLTV) — Simple Version\n",
    "#### Let’s add a basic Customer Lifetime Value metric (total spent × frequency):"
   ]
  },
  {
   "cell_type": "code",
   "execution_count": 8,
   "id": "05b464b8-5642-4868-bf4c-bf895f1d0ca9",
   "metadata": {},
   "outputs": [
    {
     "name": "stdout",
     "output_type": "stream",
     "text": [
      "             Total_Purchases  Average_Purchase_Value  Total_Spent  \\\n",
      "Customer_ID                                                         \n",
      "69-394-1424                1                  494.97       494.97   \n",
      "82-671-7236                1                  494.34       494.34   \n",
      "90-144-9193                1                  486.40       486.40   \n",
      "42-518-2602                1                  473.96       473.96   \n",
      "83-427-3218                1                  467.32       467.32   \n",
      "25-286-8786                1                  461.81       461.81   \n",
      "47-266-2261                1                  457.39       457.39   \n",
      "15-421-1255                1                  497.75       497.75   \n",
      "37-361-8691                1                  489.81       489.81   \n",
      "74-033-1145                1                  489.66       489.66   \n",
      "\n",
      "             Avg_Purchase_Frequency  Avg_Return_Rate  Loyalty_Member_Rate  \\\n",
      "Customer_ID                                                                 \n",
      "69-394-1424                    12.0              1.0                  0.0   \n",
      "82-671-7236                    12.0              1.0                  0.0   \n",
      "90-144-9193                    12.0              0.0                  0.0   \n",
      "42-518-2602                    12.0              2.0                  0.0   \n",
      "83-427-3218                    12.0              2.0                  1.0   \n",
      "25-286-8786                    12.0              0.0                  0.0   \n",
      "47-266-2261                    12.0              1.0                  0.0   \n",
      "15-421-1255                    11.0              2.0                  0.0   \n",
      "37-361-8691                    11.0              0.0                  0.0   \n",
      "74-033-1145                    11.0              2.0                  0.0   \n",
      "\n",
      "             Simple_CLTV  \n",
      "Customer_ID               \n",
      "69-394-1424      5939.64  \n",
      "82-671-7236      5932.08  \n",
      "90-144-9193      5836.80  \n",
      "42-518-2602      5687.52  \n",
      "83-427-3218      5607.84  \n",
      "25-286-8786      5541.72  \n",
      "47-266-2261      5488.68  \n",
      "15-421-1255      5475.25  \n",
      "37-361-8691      5387.91  \n",
      "74-033-1145      5386.26  \n"
     ]
    }
   ],
   "source": [
    "# Create a simple CLTV metric\n",
    "customer_behavior['Simple_CLTV'] = customer_behavior['Total_Spent'] * customer_behavior['Avg_Purchase_Frequency']\n",
    "top_cltv = customer_behavior.sort_values(by='Simple_CLTV', ascending=False).head(10)\n",
    "print(top_cltv)\n"
   ]
  },
  {
   "cell_type": "code",
   "execution_count": null,
   "id": "03865bd8-f8bc-4ae9-a7ec-09c5e5009585",
   "metadata": {},
   "outputs": [],
   "source": []
  }
 ],
 "metadata": {
  "kernelspec": {
   "display_name": "Python 3 (ipykernel)",
   "language": "python",
   "name": "python3"
  },
  "language_info": {
   "codemirror_mode": {
    "name": "ipython",
    "version": 3
   },
   "file_extension": ".py",
   "mimetype": "text/x-python",
   "name": "python",
   "nbconvert_exporter": "python",
   "pygments_lexer": "ipython3",
   "version": "3.12.7"
  }
 },
 "nbformat": 4,
 "nbformat_minor": 5
}
